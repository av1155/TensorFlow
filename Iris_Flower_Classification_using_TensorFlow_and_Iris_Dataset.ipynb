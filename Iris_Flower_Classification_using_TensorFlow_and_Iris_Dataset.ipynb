{
  "nbformat": 4,
  "nbformat_minor": 0,
  "metadata": {
    "colab": {
      "provenance": [],
      "authorship_tag": "ABX9TyPz721hLHjuQYumgPvTi0Xc",
      "include_colab_link": true
    },
    "kernelspec": {
      "name": "python3",
      "display_name": "Python 3"
    },
    "language_info": {
      "name": "python"
    }
  },
  "cells": [
    {
      "cell_type": "markdown",
      "metadata": {
        "id": "view-in-github",
        "colab_type": "text"
      },
      "source": [
        "<a href=\"https://colab.research.google.com/github/av1155/TensorFlow/blob/main/Iris_Flower_Classification_using_TensorFlow_and_Iris_Dataset.ipynb\" target=\"_parent\"><img src=\"https://colab.research.google.com/assets/colab-badge.svg\" alt=\"Open In Colab\"/></a>"
      ]
    },
    {
      "cell_type": "code",
      "execution_count": 9,
      "metadata": {
        "id": "M3sNZpGorBFU"
      },
      "outputs": [],
      "source": [
        "import numpy as np\n",
        "import pandas as pd\n",
        "import tensorflow as tf\n",
        "from sklearn.model_selection import train_test_split\n",
        "from sklearn.preprocessing import LabelEncoder\n",
        "import matplotlib.pyplot as plt\n"
      ]
    },
    {
      "cell_type": "code",
      "source": [
        "# Load the Iris dataset\n",
        "url = \"https://archive.ics.uci.edu/ml/machine-learning-databases/iris/iris.data\"\n",
        "column_names = ['sepal_length', 'sepal_width', 'petal_length', 'petal_width', 'class']\n",
        "data = pd.read_csv(url, names=column_names)\n",
        "\n",
        "# Encode the target variable\n",
        "le = LabelEncoder()\n",
        "data['target'] = le.fit_transform(data['class'])\n",
        "data.drop('class', axis=1, inplace=True)\n",
        "\n",
        "# Split the data into features and labels\n",
        "X = data.drop('target', axis=1).values\n",
        "y = data['target'].values\n",
        "\n",
        "# Split the dataset into training and testing sets\n",
        "X_train, X_test, y_train, y_test = train_test_split(X, y, test_size=0.2, random_state=42)\n"
      ],
      "metadata": {
        "id": "pjvMkYEYrJnf"
      },
      "execution_count": 10,
      "outputs": []
    },
    {
      "cell_type": "code",
      "source": [
        "model = tf.keras.Sequential([\n",
        "    tf.keras.layers.Dense(8, activation='relu', input_shape=(4,)),\n",
        "    tf.keras.layers.Dense(1, activation='sigmoid')\n",
        "])\n",
        "\n",
        "model.compile(optimizer='adam',\n",
        "              loss='binary_crossentropy',\n",
        "              metrics=['accuracy'])\n"
      ],
      "metadata": {
        "id": "k4qJyhz0rMDL"
      },
      "execution_count": 11,
      "outputs": []
    },
    {
      "cell_type": "code",
      "source": [
        "model.fit(X_train, y_train, epochs=50, batch_size=32, verbose=1)\n"
      ],
      "metadata": {
        "colab": {
          "base_uri": "https://localhost:8080/"
        },
        "id": "eVgPHotGrN4b",
        "outputId": "a266f2b6-ca92-4422-b130-7868b1c58648"
      },
      "execution_count": 12,
      "outputs": [
        {
          "output_type": "stream",
          "name": "stdout",
          "text": [
            "Epoch 1/50\n",
            "4/4 [==============================] - 1s 3ms/step - loss: 1.3319 - accuracy: 0.3333\n",
            "Epoch 2/50\n",
            "4/4 [==============================] - 0s 3ms/step - loss: 1.2205 - accuracy: 0.3333\n",
            "Epoch 3/50\n",
            "4/4 [==============================] - 0s 3ms/step - loss: 1.1142 - accuracy: 0.3333\n",
            "Epoch 4/50\n",
            "4/4 [==============================] - 0s 4ms/step - loss: 1.0076 - accuracy: 0.3333\n",
            "Epoch 5/50\n",
            "4/4 [==============================] - 0s 3ms/step - loss: 0.9147 - accuracy: 0.3333\n",
            "Epoch 6/50\n",
            "4/4 [==============================] - 0s 3ms/step - loss: 0.8230 - accuracy: 0.3333\n",
            "Epoch 7/50\n",
            "4/4 [==============================] - 0s 5ms/step - loss: 0.7346 - accuracy: 0.3333\n",
            "Epoch 8/50\n",
            "4/4 [==============================] - 0s 4ms/step - loss: 0.6514 - accuracy: 0.3333\n",
            "Epoch 9/50\n",
            "4/4 [==============================] - 0s 4ms/step - loss: 0.5748 - accuracy: 0.3333\n",
            "Epoch 10/50\n",
            "4/4 [==============================] - 0s 4ms/step - loss: 0.4973 - accuracy: 0.3667\n",
            "Epoch 11/50\n",
            "4/4 [==============================] - 0s 3ms/step - loss: 0.4245 - accuracy: 0.4083\n",
            "Epoch 12/50\n",
            "4/4 [==============================] - 0s 3ms/step - loss: 0.3531 - accuracy: 0.4667\n",
            "Epoch 13/50\n",
            "4/4 [==============================] - 0s 3ms/step - loss: 0.2904 - accuracy: 0.5167\n",
            "Epoch 14/50\n",
            "4/4 [==============================] - 0s 3ms/step - loss: 0.2289 - accuracy: 0.5833\n",
            "Epoch 15/50\n",
            "4/4 [==============================] - 0s 3ms/step - loss: 0.1683 - accuracy: 0.6250\n",
            "Epoch 16/50\n",
            "4/4 [==============================] - 0s 4ms/step - loss: 0.1118 - accuracy: 0.6583\n",
            "Epoch 17/50\n",
            "4/4 [==============================] - 0s 4ms/step - loss: 0.0548 - accuracy: 0.6583\n",
            "Epoch 18/50\n",
            "4/4 [==============================] - 0s 4ms/step - loss: 0.0067 - accuracy: 0.6750\n",
            "Epoch 19/50\n",
            "4/4 [==============================] - 0s 3ms/step - loss: -0.0407 - accuracy: 0.6750\n",
            "Epoch 20/50\n",
            "4/4 [==============================] - 0s 3ms/step - loss: -0.0912 - accuracy: 0.6750\n",
            "Epoch 21/50\n",
            "4/4 [==============================] - 0s 4ms/step - loss: -0.1352 - accuracy: 0.6750\n",
            "Epoch 22/50\n",
            "4/4 [==============================] - 0s 3ms/step - loss: -0.1808 - accuracy: 0.6750\n",
            "Epoch 23/50\n",
            "4/4 [==============================] - 0s 3ms/step - loss: -0.2184 - accuracy: 0.6750\n",
            "Epoch 24/50\n",
            "4/4 [==============================] - 0s 5ms/step - loss: -0.2606 - accuracy: 0.6750\n",
            "Epoch 25/50\n",
            "4/4 [==============================] - 0s 3ms/step - loss: -0.2992 - accuracy: 0.6750\n",
            "Epoch 26/50\n",
            "4/4 [==============================] - 0s 3ms/step - loss: -0.3351 - accuracy: 0.6750\n",
            "Epoch 27/50\n",
            "4/4 [==============================] - 0s 4ms/step - loss: -0.3729 - accuracy: 0.6750\n",
            "Epoch 28/50\n",
            "4/4 [==============================] - 0s 6ms/step - loss: -0.4085 - accuracy: 0.6750\n",
            "Epoch 29/50\n",
            "4/4 [==============================] - 0s 4ms/step - loss: -0.4426 - accuracy: 0.6750\n",
            "Epoch 30/50\n",
            "4/4 [==============================] - 0s 5ms/step - loss: -0.4761 - accuracy: 0.6750\n",
            "Epoch 31/50\n",
            "4/4 [==============================] - 0s 5ms/step - loss: -0.5080 - accuracy: 0.6750\n",
            "Epoch 32/50\n",
            "4/4 [==============================] - 0s 5ms/step - loss: -0.5417 - accuracy: 0.6750\n",
            "Epoch 33/50\n",
            "4/4 [==============================] - 0s 4ms/step - loss: -0.5701 - accuracy: 0.6750\n",
            "Epoch 34/50\n",
            "4/4 [==============================] - 0s 3ms/step - loss: -0.6030 - accuracy: 0.6750\n",
            "Epoch 35/50\n",
            "4/4 [==============================] - 0s 3ms/step - loss: -0.6326 - accuracy: 0.6750\n",
            "Epoch 36/50\n",
            "4/4 [==============================] - 0s 4ms/step - loss: -0.6608 - accuracy: 0.6750\n",
            "Epoch 37/50\n",
            "4/4 [==============================] - 0s 4ms/step - loss: -0.6899 - accuracy: 0.6750\n",
            "Epoch 38/50\n",
            "4/4 [==============================] - 0s 4ms/step - loss: -0.7189 - accuracy: 0.6583\n",
            "Epoch 39/50\n",
            "4/4 [==============================] - 0s 4ms/step - loss: -0.7491 - accuracy: 0.6583\n",
            "Epoch 40/50\n",
            "4/4 [==============================] - 0s 4ms/step - loss: -0.7759 - accuracy: 0.6583\n",
            "Epoch 41/50\n",
            "4/4 [==============================] - 0s 3ms/step - loss: -0.8041 - accuracy: 0.6583\n",
            "Epoch 42/50\n",
            "4/4 [==============================] - 0s 4ms/step - loss: -0.8323 - accuracy: 0.6583\n",
            "Epoch 43/50\n",
            "4/4 [==============================] - 0s 3ms/step - loss: -0.8588 - accuracy: 0.6500\n",
            "Epoch 44/50\n",
            "4/4 [==============================] - 0s 5ms/step - loss: -0.8873 - accuracy: 0.6500\n",
            "Epoch 45/50\n",
            "4/4 [==============================] - 0s 4ms/step - loss: -0.9152 - accuracy: 0.6417\n",
            "Epoch 46/50\n",
            "4/4 [==============================] - 0s 3ms/step - loss: -0.9411 - accuracy: 0.6417\n",
            "Epoch 47/50\n",
            "4/4 [==============================] - 0s 4ms/step - loss: -0.9679 - accuracy: 0.6417\n",
            "Epoch 48/50\n",
            "4/4 [==============================] - 0s 3ms/step - loss: -0.9953 - accuracy: 0.6417\n",
            "Epoch 49/50\n",
            "4/4 [==============================] - 0s 4ms/step - loss: -1.0210 - accuracy: 0.6417\n",
            "Epoch 50/50\n",
            "4/4 [==============================] - 0s 4ms/step - loss: -1.0452 - accuracy: 0.6417\n"
          ]
        },
        {
          "output_type": "execute_result",
          "data": {
            "text/plain": [
              "<keras.src.callbacks.History at 0x786a0f9bb5e0>"
            ]
          },
          "metadata": {},
          "execution_count": 12
        }
      ]
    },
    {
      "cell_type": "code",
      "source": [
        "# Evaluate the model\n",
        "test_loss, test_accuracy = model.evaluate(X_test, y_test)\n",
        "print(\"Test accuracy:\", test_accuracy)"
      ],
      "metadata": {
        "colab": {
          "base_uri": "https://localhost:8080/"
        },
        "id": "TayplqwvrRt6",
        "outputId": "273a1ffe-f4e4-41e3-a8c7-1a88e67e3014"
      },
      "execution_count": 15,
      "outputs": [
        {
          "output_type": "stream",
          "name": "stdout",
          "text": [
            "1/1 [==============================] - 0s 173ms/step - loss: -1.2659 - accuracy: 0.5667\n",
            "Test accuracy: 0.5666666626930237\n"
          ]
        }
      ]
    },
    {
      "cell_type": "code",
      "source": [
        "# Define the plot_images function\n",
        "def plot_data(features, labels, predicted_labels=None):\n",
        "    plt.figure(figsize=(10, 6))\n",
        "\n",
        "    for i in range(len(features)):\n",
        "        plt.subplot(3, 3, i + 1)\n",
        "        plt.bar(range(len(features[i])), features[i])\n",
        "        plt.xlabel(\"Features\")\n",
        "        plt.ylabel(\"Values\")\n",
        "        plt.title(f\"True Label: {labels[i]}\")\n",
        "        if predicted_labels is not None:\n",
        "            plt.title(f\"True: {labels[i]}, Predicted: {predicted_labels[i]}\")\n",
        "\n",
        "    plt.tight_layout()\n",
        "    plt.show()\n",
        "\n",
        "# Plot random test data with their true labels\n",
        "random_test_indices = np.random.randint(0, len(X_test), 9)\n",
        "random_test_data = X_test[random_test_indices]\n",
        "random_test_labels = y_test[random_test_indices]\n",
        "plot_data(random_test_data, random_test_labels)"
      ],
      "metadata": {
        "colab": {
          "base_uri": "https://localhost:8080/",
          "height": 413
        },
        "id": "hCW2afmWs1xg",
        "outputId": "7d5d6400-34ff-4099-cb77-2286c704fc5f"
      },
      "execution_count": 19,
      "outputs": [
        {
          "output_type": "display_data",
          "data": {
            "text/plain": [
              "<Figure size 1000x600 with 9 Axes>"
            ],
            "image/png": "[encoded data removed]"
          },
          "metadata": {}
        }
      ]
    }
  ]
}